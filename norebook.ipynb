{
 "cells": [
  {
   "attachments": {},
   "cell_type": "markdown",
   "metadata": {},
   "source": [
    "# Automatiseer repetitieve taken\n",
    "\n",
    "Notebook ontwikkeld voor de belevingsdagen op Thomas More Mechelen.<br>\n",
    "Bron: https://automatetheboringstuff.com/\n",
    "\n"
   ]
  },
  {
   "cell_type": "code",
   "execution_count": null,
   "metadata": {},
   "outputs": [],
   "source": [
    "! pip install requests\n",
    "! pip install bs4"
   ]
  },
  {
   "attachments": {},
   "cell_type": "markdown",
   "metadata": {},
   "source": [
    "## Webscraping\n",
    "Scrape alle foto's van een website"
   ]
  },
  {
   "cell_type": "code",
   "execution_count": null,
   "metadata": {},
   "outputs": [],
   "source": [
    "import requests\n",
    "from bs4 import BeautifulSoup\n",
    "from urllib.parse import urljoin, urlparse\n",
    "import os\n",
    "\n",
    "url = \"<url naar pagina>\"\n",
    "folder = \"./images/\"\n",
    "\n",
    "# als map niet bestaat, maak aan\n",
    "if not os.path.exists(folder):\n",
    "    os.makedirs(\"images\")\n",
    "\n",
    "# Maak een verzoek naar de website en verkrijg de inhoud als een BeautifulSoup object.\n",
    "response = requests.get(url)\n",
    "soup = BeautifulSoup(response.content, \"html.parser\")\n",
    "\n",
    "# Loop over alle img-tags\n",
    "for img_tag in soup.find_all(\"img\"):\n",
    "    # Vraag de source op van de afbeelding\n",
    "    img_src = img_tag.get(\"src\")\n",
    "\n",
    "    # Analyseer de bron-URL om de bestandsnaam te verkrijgen.\n",
    "    filename = os.path.basename(urlparse(img_src).path)\n",
    "\n",
    "    # Download de afbeelding\n",
    "    with open(os.path.join(folder, filename), \"wb\") as f:\n",
    "        img_url = urljoin(url, img_src)\n",
    "        response = requests.get(img_url)\n",
    "        f.write(response.content)\n",
    "        print(\"Gedownload\", filename)\n"
   ]
  },
  {
   "attachments": {},
   "cell_type": "markdown",
   "metadata": {},
   "source": [
    "## Werken met bestanden & mappen\n",
    "Verwijder alle niet -jpg bestanden"
   ]
  },
  {
   "cell_type": "code",
   "execution_count": null,
   "metadata": {},
   "outputs": [],
   "source": [
    "import os\n",
    "import fnmatch as fm\n",
    "\n",
    "folder = \"./images/\"\n",
    "\n",
    "# Loop over alle bestanden in de folder\n",
    "for file in os.listdir(folder):\n",
    "    \n",
    "    # Controleer of het bestand geen .jpg-extensie heeft.\n",
    "    if not fm.fnmatch(file, \"*.jpg\"):\n",
    "        # Zoniet, verwijder bestand!\n",
    "        os.remove(os.path.join(folder, file))\n",
    "        print(\"Verwijderd\",file)\n"
   ]
  },
  {
   "attachments": {},
   "cell_type": "markdown",
   "metadata": {},
   "source": [
    "## Werken met API’s\n",
    "Verwijder achtergrond van foto, we werken met de API https://clipdrop.co/apis/docs/remove-background<br>\n",
    "Vraag eerst een key aan, je krijgt 100 credits om mee te starten."
   ]
  },
  {
   "cell_type": "code",
   "execution_count": null,
   "metadata": {},
   "outputs": [],
   "source": [
    "import requests\n",
    "\n",
    "# Stel de API-eindpunt URL in.\n",
    "url = 'https://clipdrop-api.co/remove-background/v1'\n",
    "\n",
    "# Stel het pad naar uw afbeeldingsbestand in.\n",
    "img_path = 'images/jump.jpg'\n",
    "\n",
    "# Stel de API-key in de headers in.\n",
    "headers = {\n",
    "    'x-api-key': '<Je eigen API-key>'\n",
    "}\n",
    "\n",
    "# Open het afbeeldingsbestand en lees de binair inhoud.\n",
    "with open(img_path, 'rb') as img_file:\n",
    "    img_object = img_file.read()\n",
    "\n",
    "# Stel de files-parameter in als een dictionary met de binair afbeeldingsinhoud.\n",
    "files = {\n",
    "    'image_file': ('image.jpg', img_object, 'image/jpeg')\n",
    "}\n",
    "\n",
    "# Stuur POST request naar ClipDrop API\n",
    "response = requests.post(url, headers=headers, files=files)\n",
    "\n",
    "# Check of je een ok antwoord terug kreeg (status code 200)\n",
    "if response.ok:\n",
    "    # Bewaar transparante afbeelding\n",
    "    with open('images/transparent.png', 'wb') as new_img:\n",
    "        new_img.write(response.content)\n",
    "else:\n",
    "    print(\"Er was een probleem!\")\n",
    "\n"
   ]
  },
  {
   "attachments": {},
   "cell_type": "markdown",
   "metadata": {},
   "source": [
    "# E-mailen\n",
    "\n",
    "Gebruik de SMTP-server van Google om e-mails te versturen. Stel 2 stapsverificatie in en maak een app-wachtwoord: https://support.google.com/mail/answer/185833?hl=nl"
   ]
  },
  {
   "cell_type": "code",
   "execution_count": null,
   "metadata": {},
   "outputs": [],
   "source": [
    "import smtplib, ssl\n",
    "from email.message import EmailMessage\n",
    "\n",
    "# Stel alle gegevens voor de SMTP-server in\n",
    "port = 465  # For SSL\n",
    "smtp_server = \"smtp.gmail.com\"\n",
    "sender_email = \"<jouw e-mailadres>\"\n",
    "receiver_email = \"<e-mailadres van ontvanger>\"\n",
    "password = \"<je paswoord>\"\n",
    "\n",
    "# Stel het bericht op\n",
    "msg = EmailMessage()\n",
    "msg.set_content(\"Hoi\\nHierbij de foto!\")\n",
    "msg['Subject'] = \"Hello from me!\"\n",
    "msg['From'] = sender_email\n",
    "msg['To'] = receiver_email\n",
    "\n",
    "# Voeg afbeelding toe als attachment\n",
    "with open('images/transparent.png', 'rb') as f:\n",
    "    file_data = f.read()\n",
    "    msg.add_attachment(file_data, maintype='image', subtype='png', filename='picture.png')\n",
    "\n",
    "# Verstuur e-mail\n",
    "context = ssl.create_default_context()\n",
    "with smtplib.SMTP_SSL(smtp_server, port, context=context) as server:\n",
    "    server.login(sender_email, password)\n",
    "    server.send_message(msg, from_addr=sender_email, to_addrs=receiver_email)\n"
   ]
  }
 ],
 "metadata": {
  "kernelspec": {
   "display_name": "Python 3",
   "language": "python",
   "name": "python3"
  },
  "language_info": {
   "codemirror_mode": {
    "name": "ipython",
    "version": 3
   },
   "file_extension": ".py",
   "mimetype": "text/x-python",
   "name": "python",
   "nbconvert_exporter": "python",
   "pygments_lexer": "ipython3",
   "version": "3.7.4"
  },
  "orig_nbformat": 4,
  "vscode": {
   "interpreter": {
    "hash": "7e45a591636b8059a3511f51eb84f0cf9a867c0e545a110f58ba3a9c1ada6645"
   }
  }
 },
 "nbformat": 4,
 "nbformat_minor": 2
}
