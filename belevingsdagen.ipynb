{
 "cells": [
  {
   "attachments": {},
   "cell_type": "markdown",
   "metadata": {},
   "source": [
    "# Automate the boring stuff!\n",
    "This work is licensed under CC BY-NC-SA 4.0 https://creativecommons.org/licenses/by-nc-sa/4.0/\n",
    "\n",
    "Notebook ontwikkeld voor de belevingsdagen op Thomas More Mechelen.<br>\n",
    "Interessant boek: https://automatetheboringstuff.com/\n",
    "\n",
    "### Te installeren packages (zie PyPi https://pypi.org/)"
   ]
  },
  {
   "cell_type": "code",
   "execution_count": null,
   "metadata": {},
   "outputs": [],
   "source": [
    "! pip install requests\n",
    "! pip install bs4\n",
    "! pip install smtplib\n",
    "! pip install email"
   ]
  },
  {
   "cell_type": "markdown",
   "metadata": {},
   "source": [
    "### In te vullen waarden"
   ]
  },
  {
   "cell_type": "code",
   "execution_count": null,
   "metadata": {},
   "outputs": [],
   "source": [
    "URL = \"https://nl.wikipedia.org/wiki/Albert_Einstein\" # welke wikipedia-pagina wil je gebruiken\n",
    "FOLDER = \"./images/\" #folder voor afbeeldingen\n",
    "APIKEY = \"\" #API Key van, freemium https://rapidapi.com/rphrp1985/api/chatgpt-42\"\n",
    "GMAIL = \"\" #gmail-account\n",
    "GMAIL_APP_PASSWORD = \"\" #gmail app password"
   ]
  },
  {
   "cell_type": "markdown",
   "metadata": {},
   "source": [
    "## Webscrape informatie\n",
    "We halen alle informatie van wikipedia binnen"
   ]
  },
  {
   "cell_type": "code",
   "execution_count": null,
   "metadata": {},
   "outputs": [],
   "source": [
    "import requests\n",
    "from bs4 import BeautifulSoup\n",
    "\n",
    "response = requests.get(URL)\n",
    "soup = BeautifulSoup(response.content, \"html.parser\")\n",
    "text = soup.find(id=\"mw-content-text\").get_text().replace(\"\\n\",\" \")\n",
    "title = soup.title.string\n",
    "\n",
    "print(title)\n",
    "print(text)"
   ]
  },
  {
   "attachments": {},
   "cell_type": "markdown",
   "metadata": {},
   "source": [
    "We halen alle foto's van wikipedia binnen"
   ]
  },
  {
   "cell_type": "code",
   "execution_count": null,
   "metadata": {},
   "outputs": [],
   "source": [
    "import requests\n",
    "from bs4 import BeautifulSoup\n",
    "from urllib.parse import urljoin, urlparse\n",
    "import os\n",
    "\n",
    "response = requests.get(URL)\n",
    "soup = BeautifulSoup(response.content, \"html.parser\")\n",
    "\n",
    "# Loop over alle img-tags\n",
    "for img_tag in soup.find_all(\"img\"):\n",
    "    img_src = img_tag.get(\"src\")\n",
    "\n",
    "    # Analyseer de bron-URL om de bestandsnaam te verkrijgen.\n",
    "    filename = os.path.basename(urlparse(img_src).path)\n",
    "\n",
    "    try:\n",
    "        # Download de afbeelding\n",
    "        with open(os.path.join(FOLDER, filename), \"wb\") as f:\n",
    "            img_url = urljoin(URL, img_src)\n",
    "            response = requests.get(img_url)\n",
    "            f.write(response.content)\n",
    "            print(\"Gedownload\", filename)\n",
    "    except:\n",
    "        pass"
   ]
  },
  {
   "attachments": {},
   "cell_type": "markdown",
   "metadata": {},
   "source": [
    "## Werken met bestanden & mappen\n",
    "Haal de grootste afbeelding eruit"
   ]
  },
  {
   "cell_type": "code",
   "execution_count": null,
   "metadata": {},
   "outputs": [],
   "source": [
    "import os\n",
    "\n",
    "afbeelding = None\n",
    "max_size = 0\n",
    "\n",
    "for file in os.listdir(FOLDER):\n",
    "    file_path = os.path.join(FOLDER, file)\n",
    "\n",
    "    size = os.path.getsize(file_path)\n",
    "    if size > max_size:\n",
    "        afbeelding, max_size = file, size\n",
    "\n",
    "print(f\"Grootste bestand '{afbeelding}' behouden.\")\n",
    "\n"
   ]
  },
  {
   "cell_type": "markdown",
   "metadata": {},
   "source": [
    "## Werken met een API\n",
    "Vat de tekst van wikipedia samen in 50 woorden."
   ]
  },
  {
   "cell_type": "code",
   "execution_count": null,
   "metadata": {},
   "outputs": [],
   "source": [
    "import requests\n",
    "\n",
    "url = \"https://chatgpt-42.p.rapidapi.com/conversationgpt4\"\n",
    "\n",
    "payload = {\n",
    "\t\"messages\": [\n",
    "\t\t{\n",
    "\t\t\t\"role\": \"user\",\n",
    "\t\t\t\"content\": \"Maak een samenvatting van de volgende tekst in het Nederlands in 50 woorden. \\n\" + text\n",
    "\t\t}\n",
    "\t],\n",
    "\t\"system_prompt\": \"\",\n",
    "\t\"temperature\": 0.9,\n",
    "\t\"top_k\": 5,\n",
    "\t\"top_p\": 0.9,\n",
    "\t\"max_tokens\": 256,\n",
    "\t\"web_access\": False\n",
    "}\n",
    "headers = {\n",
    "\t\"content-type\": \"application/json\",\n",
    "\t\"X-RapidAPI-Key\": APIKEY,\n",
    "\t\"X-RapidAPI-Host\": \"chatgpt-42.p.rapidapi.com\"\n",
    "}\n",
    "\n",
    "response = requests.post(url, json=payload, headers=headers)\n",
    "samenvatting = response.json()[\"result\"]\n",
    "print(samenvatting)"
   ]
  },
  {
   "cell_type": "markdown",
   "metadata": {},
   "source": [
    "## Stuur een e-mail\n",
    "Stuur een e-mail met samenvatting en foto naar alle mensen die je wilt ;)"
   ]
  },
  {
   "cell_type": "code",
   "execution_count": null,
   "metadata": {},
   "outputs": [],
   "source": [
    "import smtplib\n",
    "from email.mime.multipart import MIMEMultipart\n",
    "from email.mime.text import MIMEText\n",
    "from email.mime.image import MIMEImage\n",
    "\n",
    "recipients = [\"\",\"\"] # mogen zoveel namen in als je zelf wilt, scheiden door een ,\n",
    "\n",
    "msg = MIMEMultipart()\n",
    "msg[\"Subject\"] = title\n",
    "msg[\"To\"] = \", \".join(recipients)\n",
    "msg[\"From\"] = f\"{GMAIL}@gmail.com\"\n",
    "\n",
    "tekstdeel = MIMEText(samenvatting, 'plain', 'utf-8')\n",
    "msg.attach(tekstdeel)\n",
    "\n",
    "afbeeldingspad = os.path.join(FOLDER, afbeelding)\n",
    "with open(afbeeldingspad, 'rb') as f:\n",
    "    afbeeldingsinhoud = f.read()\n",
    "\n",
    "mime_subtype = 'jpeg' if afbeelding.lower().endswith('.jpg') or afbeelding.lower().endswith('.jpeg') else 'png'\n",
    "afbeelding = MIMEImage(afbeeldingsinhoud, _subtype=mime_subtype)\n",
    "msg.attach(afbeelding)\n",
    "\n",
    "smtp_server = smtplib.SMTP_SSL('smtp.gmail.com', 465)\n",
    "smtp_server.login(GMAIL, GMAIL_APP_PASSWORD)\n",
    "smtp_server.sendmail(msg[\"From\"], recipients, msg.as_string())\n",
    "smtp_server.quit()\n"
   ]
  },
  {
   "cell_type": "markdown",
   "metadata": {},
   "source": [
    "## Verwijder afbeeldingen in map\n",
    "Dit is een stukje helper-code!"
   ]
  },
  {
   "cell_type": "code",
   "execution_count": null,
   "metadata": {},
   "outputs": [],
   "source": [
    "import os\n",
    "\n",
    "for file in os.listdir(FOLDER):\n",
    "    file_path = os.path.join(FOLDER, file)\n",
    "    os.remove(file_path)\n",
    "    print(f\"Verwijderd: {file}\")\n",
    "   \n",
    "print(\"Alle bestanden zijn verwijderd.\")"
   ]
  }
 ],
 "metadata": {
  "kernelspec": {
   "display_name": "Python 3",
   "language": "python",
   "name": "python3"
  },
  "language_info": {
   "codemirror_mode": {
    "name": "ipython",
    "version": 3
   },
   "file_extension": ".py",
   "mimetype": "text/x-python",
   "name": "python",
   "nbconvert_exporter": "python",
   "pygments_lexer": "ipython3",
   "version": "3.7.4"
  },
  "orig_nbformat": 4,
  "vscode": {
   "interpreter": {
    "hash": "7e45a591636b8059a3511f51eb84f0cf9a867c0e545a110f58ba3a9c1ada6645"
   }
  }
 },
 "nbformat": 4,
 "nbformat_minor": 2
}
